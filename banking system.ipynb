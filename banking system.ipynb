{
 "cells": [
  {
   "cell_type": "code",
   "execution_count": 30,
   "id": "a0863aa4",
   "metadata": {},
   "outputs": [
    {
     "name": "stdout",
     "output_type": "stream",
     "text": [
      "Deposited 1000 in your account.New balance:1000\n",
      "Account balance:1000\n",
      "Withdrew 500 from your account.New balance500\n",
      "Transfered 300 from account 456789231 to recipient 12345678 is successfull.New Balance:200\n"
     ]
    }
   ],
   "source": [
    "class BankAccount():\n",
    "    def __init__(self,account_number1,account_number2,pin,balance=0):\n",
    "        self.pin=pin\n",
    "        self.account_number1=account_number1\n",
    "        self.account_number2=account_number2\n",
    "        self.balance=balance\n",
    "        \n",
    "    def deposit(self,amount):\n",
    "                self.balance+=amount\n",
    "                return f\"Deposited {amount} in your account.New balance:{self.balance}\"\n",
    "    def withdraw(self,amount,entered_pin):\n",
    "        if entered_pin==self.pin:\n",
    "            if amount <= self.balance:\n",
    "                self.balance -= amount\n",
    "                return f\"Withdrew {amount} from your account.New balance{self.balance}\"\n",
    "            else:\n",
    "                return \"Insufficient fund declined\"\n",
    "        else:\n",
    "            return\"Incorrect pin.Withdrawl cancelled.\"           \n",
    "        \n",
    "    def check_balance(self,entered_pin):\n",
    "        if entered_pin==self.pin:\n",
    "                 return f\"Account balance:{self.balance}\" \n",
    "        else:\n",
    "            return \"incorrect pin. unable to check balance\"\n",
    "    \n",
    "    def transfer_fund(self,entered_pin,amount,recipient):\n",
    "        if entered_pin==self.pin:\n",
    "            if self.balance>=amount:\n",
    "                self.balance -= amount\n",
    "                recipient.balance += amount\n",
    "                 \n",
    "                return f\"Transfered {amount} from account {self.account_number1} to recipient {recipient.account_number2} is successfull.New Balance:{self.balance}\"\n",
    "                \n",
    "            else:\n",
    "                return\"Inssufficient balance\"\n",
    "        else:\n",
    "            return\"Incorrect pin.Transfer cancelled\"\n",
    "                    \n",
    "        \n",
    "\n",
    "account_pin1=5436\n",
    "account_pin2=2312\n",
    "\n",
    "account1=BankAccount(\"456789231\",None,pin=account_pin1)\n",
    "account2=BankAccount(None,\"12345678\",pin=account_pin2)\n",
    "\n",
    "print (account1.deposit(1000))\n",
    "print (account1.check_balance(5436))\n",
    "print (account1.withdraw(500,5436))\n",
    "print (account1.transfer_fund(5436,300,account2))\n",
    "\n",
    "                     \n",
    "                                \n",
    "                                \n",
    "                                \n",
    "                \n",
    "                                \n",
    "                \n",
    "                                    \n",
    "                                \n",
    "                           \n",
    "    \n",
    "\n",
    "\n",
    "                                            \n",
    "                                            \n",
    "                                \n",
    "                                \n",
    "                            \n",
    "                    \n",
    "                  \n",
    "                    "
   ]
  },
  {
   "cell_type": "code",
   "execution_count": null,
   "id": "ff13f892",
   "metadata": {},
   "outputs": [],
   "source": []
  },
  {
   "cell_type": "code",
   "execution_count": null,
   "id": "70cd00ab",
   "metadata": {},
   "outputs": [],
   "source": []
  }
 ],
 "metadata": {
  "kernelspec": {
   "display_name": "Python 3 (ipykernel)",
   "language": "python",
   "name": "python3"
  },
  "language_info": {
   "codemirror_mode": {
    "name": "ipython",
    "version": 3
   },
   "file_extension": ".py",
   "mimetype": "text/x-python",
   "name": "python",
   "nbconvert_exporter": "python",
   "pygments_lexer": "ipython3",
   "version": "3.11.3"
  }
 },
 "nbformat": 4,
 "nbformat_minor": 5
}
